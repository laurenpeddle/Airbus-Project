{
 "cells": [
  {
   "cell_type": "markdown",
   "metadata": {},
   "source": [
    "Project code"
   ]
  },
  {
   "cell_type": "code",
   "execution_count": null,
   "metadata": {},
   "outputs": [],
   "source": [
    "!pip install astral\n",
    "!pip install skyfield"
   ]
  },
  {
   "cell_type": "code",
   "execution_count": null,
   "metadata": {},
   "outputs": [],
   "source": [
    "from astral import LocationInfo\n",
    "from astral.moon import phase as moon_phase\n",
    "from datetime import datetime\n",
    "import numpy as np\n",
    "from skyfield.api import load, Topos\n",
    "import matplotlib.pyplot as plt"
   ]
  },
  {
   "cell_type": "code",
   "execution_count": null,
   "metadata": {},
   "outputs": [],
   "source": [
    "# Function to estimate moon illumination based on its phase\n",
    "def get_moon_illumination(phase):\n",
    "    \"\"\"Returns approximate lux intensity based on moon phase.\"\"\"\n",
    "    # Lux values based on different moon phases (approximate)\n",
    "    lux_values = {0: 0.3,  # New Moon\n",
    "                  1: 0.2,  # Waxing Crescent\n",
    "                  7: 0.03, # First Quarter\n",
    "                  14: 0.25, # Full Moon\n",
    "                  21: 0.03, # Last Quarter\n",
    "                  28: 0.2}  # Waning Crescent\n",
    "    return lux_values.get(phase, 0.1)  # Default for intermediate phases"
   ]
  },
  {
   "cell_type": "code",
   "execution_count": null,
   "metadata": {},
   "outputs": [],
   "source": [
    "# Define observer location in the North Atlantic\n",
    "# Example coordinates: 50N, 30W\n",
    "location = LocationInfo(\"North Atlantic\", \"\", \"UTC\", 50.0, -30.0)"
   ]
  },
  {
   "cell_type": "code",
   "execution_count": null,
   "metadata": {},
   "outputs": [],
   "source": [
    "# Load astronomical data\n",
    "eph = load('de421.bsp')  # Ephemeris data\n",
    "observer = Topos(latitude_degrees=50.0, longitude_degrees=-30.0)\n",
    "ts = load.timescale()\n",
    "date = datetime.utcnow()\n",
    "t = ts.utc(date.year, date.month, date.day, date.hour, date.minute, date.second)"
   ]
  },
  {
   "cell_type": "code",
   "execution_count": null,
   "metadata": {},
   "outputs": [],
   "source": [
    "# Compute moon position\n",
    "moon = eph['moon']\n",
    "astro_position = eph['earth'] + observer\n",
    "moon_alt, _, _ = astro_position.at(t).observe(moon).apparent().altaz()"
   ]
  },
  {
   "cell_type": "code",
   "execution_count": null,
   "metadata": {},
   "outputs": [],
   "source": [
    "# Compute the moon phase and illumination\n",
    "phase = moon_phase(date)\n",
    "lux_intensity = get_moon_illumination(phase)"
   ]
  },
  {
   "cell_type": "code",
   "execution_count": null,
   "metadata": {},
   "outputs": [],
   "source": [
    "# Simulate optical observation - Basic Target Visibility\n",
    "# Assuming a 15m long target with reflectivity of 0.7 (low reflectance on dark water)\n",
    "target_size = 15  # meters\n",
    "reflectivity = 0.7  # Fraction of light reflected"
   ]
  },
  {
   "cell_type": "code",
   "execution_count": null,
   "metadata": {},
   "outputs": [],
   "source": [
    "# Compute basic visibility metric (lux * reflectivity * target size)\n",
    "visibility_score = lux_intensity * reflectivity * target_size"
   ]
  },
  {
   "cell_type": "code",
   "execution_count": null,
   "metadata": {},
   "outputs": [],
   "source": [
    "# Render simple scene\n",
    "fig, ax = plt.subplots(figsize=(6, 6))\n",
    "ax.set_facecolor(\"black\")  # Dark background\n",
    "ax.add_patch(plt.Rectangle((0, 0), 15, 2, color='gray', alpha=reflectivity))  # Target\n",
    "plt.xlim(-10, 10)\n",
    "plt.ylim(-5, 5)\n",
    "plt.title(f\"Target under Moonlight (Phase: {phase}, Lux: {lux_intensity:.2f})\")\n",
    "plt.axis(\"off\")\n",
    "plt.show()"
   ]
  },
  {
   "cell_type": "code",
   "execution_count": null,
   "metadata": {},
   "outputs": [],
   "source": [
    "# Print results\n",
    "print(f\"Date: {date}\")\n",
    "print(f\"Moon Phase: {phase} (0=New, 14=Full)\")\n",
    "print(f\"Lux Intensity: {lux_intensity} lux\")\n",
    "print(f\"Moon Altitude: {moon_alt.degrees:.2f} degrees\")\n",
    "print(f\"Target Visibility Score: {visibility_score:.2f}\")"
   ]
  },
  {
   "cell_type": "code",
   "execution_count": null,
   "metadata": {},
   "outputs": [],
   "source": []
  }
 ],
 "metadata": {
  "kernelspec": {
   "display_name": "Python 3",
   "language": "python",
   "name": "python3"
  },
  "language_info": {
   "codemirror_mode": {
    "name": "ipython",
    "version": 3
   },
   "file_extension": ".py",
   "mimetype": "text/x-python",
   "name": "python",
   "nbconvert_exporter": "python",
   "pygments_lexer": "ipython3",
   "version": "3.12.1"
  }
 },
 "nbformat": 4,
 "nbformat_minor": 2
}

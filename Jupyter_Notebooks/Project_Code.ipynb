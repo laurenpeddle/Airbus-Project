{
 "cells": [
  {
   "cell_type": "markdown",
   "metadata": {},
   "source": [
    "Project code"
   ]
  },
  {
   "cell_type": "code",
   "execution_count": 32,
   "metadata": {},
   "outputs": [
    {
     "name": "stdout",
     "output_type": "stream",
     "text": [
      "Requirement already satisfied: astral in /usr/local/python/3.12.1/lib/python3.12/site-packages (3.2)\n",
      "Requirement already satisfied: skyfield in /usr/local/python/3.12.1/lib/python3.12/site-packages (1.52)\n",
      "Requirement already satisfied: certifi>=2017.4.17 in /home/codespace/.local/lib/python3.12/site-packages (from skyfield) (2025.1.31)\n",
      "Requirement already satisfied: jplephem>=2.13 in /usr/local/python/3.12.1/lib/python3.12/site-packages (from skyfield) (2.22)\n",
      "Requirement already satisfied: numpy in /home/codespace/.local/lib/python3.12/site-packages (from skyfield) (2.2.4)\n",
      "Requirement already satisfied: sgp4>=2.13 in /usr/local/python/3.12.1/lib/python3.12/site-packages (from skyfield) (2.24)\n"
     ]
    }
   ],
   "source": [
    "!pip install astral\n",
    "!pip install skyfield"
   ]
  },
  {
   "cell_type": "code",
   "execution_count": 33,
   "metadata": {},
   "outputs": [],
   "source": [
    "from astral import LocationInfo\n",
    "from astral.moon import phase as moon_phase\n",
    "from datetime import datetime\n",
    "import numpy as np\n",
    "from skyfield.api import load, Topos\n",
    "import matplotlib.pyplot as plt"
   ]
  },
  {
   "cell_type": "code",
   "execution_count": 34,
   "metadata": {},
   "outputs": [],
   "source": [
    "# ========== Modular Simulation Functions ==========\n",
    "\n",
    "def calculate_lux_intensity(fractional_illumination):\n",
    "    \"\"\"Convert fractional moon illumination to lux intensity.\"\"\"\n",
    "    return 10**(-1.93 + 0.419 * fractional_illumination + 0.026 * fractional_illumination**2)\n",
    "\n",
    "def compute_visibility(lux, reflectivity, target_size):\n",
    "    \"\"\"Calculate a basic visibility score.\"\"\"\n",
    "    return lux * reflectivity * target_size\n",
    "\n",
    "def generate_sea_scene(img_size=(200, 200), target_position=(90, 80), target_size=(20, 40),\n",
    "                       lux_intensity=0.25, reflectivity_sea=0.05, reflectivity_target=0.6):\n",
    "    \"\"\"Generate a grayscale sea scene with a reflective target.\"\"\"\n",
    "    sea = np.ones(img_size) * lux_intensity * reflectivity_sea\n",
    "    y, x = target_position\n",
    "    h, w = target_size\n",
    "    sea[y:y+h, x:x+w] = lux_intensity * reflectivity_target\n",
    "    return sea\n",
    "\n",
    "def display_scene(sea_array, title=\"Top-Down Satellite View\"):\n",
    "    \"\"\"Visualize a grayscale scene.\"\"\"\n",
    "    plt.imshow(sea_array, cmap='gray', origin='upper')\n",
    "    plt.title(title)\n",
    "    plt.axis('off')\n",
    "    plt.show()\n"
   ]
  },
  {
   "cell_type": "code",
   "execution_count": 35,
   "metadata": {},
   "outputs": [],
   "source": [
    "# Function to estimate moon illumination based on its phase\n",
    "def get_moon_illumination(phase):\n",
    "    \"\"\"Returns approximate lux intensity based on moon phase.\"\"\"\n",
    "    # Lux values based on different moon phases (approximate)\n",
    "    lux_values = {0: 0.3,  # New Moon\n",
    "                  1: 0.2,  # Waxing Crescent\n",
    "                  7: 0.03, # First Quarter\n",
    "                  14: 0.25, # Full Moon\n",
    "                  21: 0.03, # Last Quarter\n",
    "                  28: 0.2}  # Waning Crescent\n",
    "    return lux_values.get(phase, 0.1)  # Default for intermediate phases"
   ]
  },
  {
   "cell_type": "code",
   "execution_count": 36,
   "metadata": {},
   "outputs": [
    {
     "name": "stdout",
     "output_type": "stream",
     "text": [
      "🌍 Observer location: Latitude 46.57° N, Longitude -54.98° W\n"
     ]
    }
   ],
   "source": [
    "import random\n",
    "from skyfield.api import Topos\n",
    "\n",
    "# Random North Atlantic location\n",
    "latitude = random.uniform(0, 60)      # degrees North\n",
    "longitude = random.uniform(-80, -10)  # degrees West\n",
    "\n",
    "observer = Topos(latitude_degrees=latitude, longitude_degrees=longitude)\n",
    "\n",
    "print(f\"🌍 Observer location: Latitude {latitude:.2f}° N, Longitude {longitude:.2f}° W\")\n"
   ]
  },
  {
   "cell_type": "code",
   "execution_count": 37,
   "metadata": {},
   "outputs": [
    {
     "name": "stderr",
     "output_type": "stream",
     "text": [
      "/tmp/ipykernel_2443/199144691.py:3: DeprecationWarning: datetime.datetime.utcnow() is deprecated and scheduled for removal in a future version. Use timezone-aware objects to represent datetimes in UTC: datetime.datetime.now(datetime.UTC).\n",
      "  date = datetime.utcnow()\n"
     ]
    }
   ],
   "source": [
    "eph = load('de421.bsp')  # load ephemeris data\n",
    "ts = load.timescale()\n",
    "date = datetime.utcnow()\n",
    "t = ts.utc(date.year, date.month, date.day, date.hour, date.minute, date.second)\n",
    "\n",
    "earth = eph['earth']\n",
    "moon = eph['moon']\n",
    "sun = eph['sun']\n",
    "astro_position = earth + observer\n",
    "\n",
    "moon_pos = astro_position.at(t).observe(moon).apparent()\n",
    "sun_pos = astro_position.at(t).observe(sun).apparent()\n",
    "\n",
    "phase_angle = moon_pos.separation_from(sun_pos)\n",
    "fractional_illumination = (1 + np.cos(np.radians(phase_angle.degrees))) / 2\n",
    "lux = calculate_lux_intensity(fractional_illumination)"
   ]
  },
  {
   "cell_type": "code",
   "execution_count": 38,
   "metadata": {},
   "outputs": [
    {
     "data": {
      "image/png": "[encoded data removed]",
      "text/plain": [
       "<Figure size 640x480 with 1 Axes>"
      ]
     },
     "metadata": {},
     "output_type": "display_data"
    }
   ],
   "source": [
    "scene = generate_sea_scene(lux_intensity=lux)\n",
    "display_scene(scene, title=f\"🌙 Moonlit Scene – Lux {lux:.3f}\")"
   ]
  },
  {
   "cell_type": "code",
   "execution_count": 39,
   "metadata": {},
   "outputs": [],
   "source": [
    "# Compute fractional illumination (Skyfield provides this directly)\n",
    "fractional_illumination = (1 + np.cos(np.radians(phase_angle.degrees))) / 2"
   ]
  },
  {
   "cell_type": "code",
   "execution_count": 40,
   "metadata": {},
   "outputs": [],
   "source": [
    "# Improved Lux Calculation using Scientific Model\n",
    "lux_intensity = 10**(-1.93 + 0.419 * fractional_illumination + 0.026 * fractional_illumination**2)"
   ]
  },
  {
   "cell_type": "code",
   "execution_count": 41,
   "metadata": {},
   "outputs": [
    {
     "data": {
      "image/png": "[encoded data removed]",
      "text/plain": [
       "<Figure size 640x480 with 1 Axes>"
      ]
     },
     "metadata": {},
     "output_type": "display_data"
    }
   ],
   "source": [
    "lux = 0.25  # Simulate full moonlight\n",
    "scene = generate_sea_scene(lux_intensity=lux)\n",
    "display_scene(scene, title=f\"Moonlit Scene – Lux {lux:.3f}\")"
   ]
  },
  {
   "cell_type": "code",
   "execution_count": 42,
   "metadata": {},
   "outputs": [],
   "source": [
    "# Simulate optical observation - Basic Target Visibility\n",
    "# Assuming a 15m long target with reflectivity of 0.7 (low reflectance on dark water)\n",
    "target_size = 15  # meters\n",
    "reflectivity = 0.7  # Fraction of light reflected"
   ]
  },
  {
   "cell_type": "code",
   "execution_count": 43,
   "metadata": {},
   "outputs": [],
   "source": [
    "# Compute basic visibility metric (lux * reflectivity * target size)\n",
    "visibility_score = lux_intensity * reflectivity * target_size"
   ]
  },
  {
   "cell_type": "code",
   "execution_count": 44,
   "metadata": {},
   "outputs": [
    {
     "name": "stdout",
     "output_type": "stream",
     "text": [
      "Date: 2025-04-10 21:30:59.190108\n",
      "Fractional Illumination: 0.037 (0 = New, 1 = Full)\n",
      "Estimated Lux Intensity: 0.012 lux\n"
     ]
    }
   ],
   "source": [
    "# Print results\n",
    "print(f\"Date: {date}\")\n",
    "print(f\"Fractional Illumination: {fractional_illumination:.3f} (0 = New, 1 = Full)\")\n",
    "print(f\"Estimated Lux Intensity: {lux_intensity:.3f} lux\")"
   ]
  },
  {
   "cell_type": "code",
   "execution_count": 45,
   "metadata": {},
   "outputs": [
    {
     "ename": "NameError",
     "evalue": "name 'phase' is not defined",
     "output_type": "error",
     "traceback": [
      "\u001b[31m---------------------------------------------------------------------------\u001b[39m",
      "\u001b[31mNameError\u001b[39m                                 Traceback (most recent call last)",
      "\u001b[36mCell\u001b[39m\u001b[36m \u001b[39m\u001b[32mIn[45]\u001b[39m\u001b[32m, line 8\u001b[39m\n\u001b[32m      6\u001b[39m plt.xlim(-\u001b[32m10\u001b[39m, \u001b[32m10\u001b[39m)\n\u001b[32m      7\u001b[39m plt.ylim(-\u001b[32m5\u001b[39m, \u001b[32m5\u001b[39m)\n\u001b[32m----> \u001b[39m\u001b[32m8\u001b[39m plt.title(\u001b[33mf\u001b[39m\u001b[33m\"\u001b[39m\u001b[33mTarget under Moonlight (Phase: \u001b[39m\u001b[38;5;132;01m{\u001b[39;00m\u001b[43mphase\u001b[49m\u001b[38;5;132;01m}\u001b[39;00m\u001b[33m, Lux: \u001b[39m\u001b[38;5;132;01m{\u001b[39;00mlux_intensity\u001b[38;5;132;01m:\u001b[39;00m\u001b[33m.2f\u001b[39m\u001b[38;5;132;01m}\u001b[39;00m\u001b[33m)\u001b[39m\u001b[33m\"\u001b[39m)\n\u001b[32m      9\u001b[39m plt.axis(\u001b[33m\"\u001b[39m\u001b[33moff\u001b[39m\u001b[33m\"\u001b[39m)\n\u001b[32m     10\u001b[39m plt.show()\n",
      "\u001b[31mNameError\u001b[39m: name 'phase' is not defined"
     ]
    },
    {
     "data": {
      "image/png": "[encoded data removed]",
      "text/plain": [
       "<Figure size 600x600 with 1 Axes>"
      ]
     },
     "metadata": {},
     "output_type": "display_data"
    }
   ],
   "source": [
    "# Render simple scene\n",
    "fig, ax = plt.subplots(figsize=(6, 6))\n",
    "ax.set_facecolor(\"black\")  # Dark background\n",
    "ax.set_facecolor('black')  # Set the axis background to black\n",
    "ax.add_patch(plt.Rectangle((0, 0), 15, 2, color='gray', alpha=reflectivity))  # Target\n",
    "plt.xlim(-10, 10)\n",
    "plt.ylim(-5, 5)\n",
    "plt.title(f\"Target under Moonlight (Phase: {phase}, Lux: {lux_intensity:.2f})\")\n",
    "plt.axis(\"off\")\n",
    "plt.show()"
   ]
  }
 ],
 "metadata": {
  "kernelspec": {
   "display_name": "Python 3",
   "language": "python",
   "name": "python3"
  },
  "language_info": {
   "codemirror_mode": {
    "name": "ipython",
    "version": 3
   },
   "file_extension": ".py",
   "mimetype": "text/x-python",
   "name": "python",
   "nbconvert_exporter": "python",
   "pygments_lexer": "ipython3",
   "version": "3.12.1"
  }
 },
 "nbformat": 4,
 "nbformat_minor": 2
}

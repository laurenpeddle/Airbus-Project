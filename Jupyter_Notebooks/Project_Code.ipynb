{
 "cells": [
  {
   "cell_type": "markdown",
   "metadata": {},
   "source": [
    "Project code"
   ]
  },
  {
   "cell_type": "code",
   "execution_count": 25,
   "metadata": {},
   "outputs": [
    {
     "name": "stdout",
     "output_type": "stream",
     "text": [
      "Requirement already satisfied: astral in /usr/local/python/3.12.1/lib/python3.12/site-packages (3.2)\n",
      "Requirement already satisfied: skyfield in /usr/local/python/3.12.1/lib/python3.12/site-packages (1.52)\n",
      "Requirement already satisfied: certifi>=2017.4.17 in /home/codespace/.local/lib/python3.12/site-packages (from skyfield) (2025.1.31)\n",
      "Requirement already satisfied: jplephem>=2.13 in /usr/local/python/3.12.1/lib/python3.12/site-packages (from skyfield) (2.22)\n",
      "Requirement already satisfied: numpy in /home/codespace/.local/lib/python3.12/site-packages (from skyfield) (2.2.4)\n",
      "Requirement already satisfied: sgp4>=2.13 in /usr/local/python/3.12.1/lib/python3.12/site-packages (from skyfield) (2.24)\n"
     ]
    }
   ],
   "source": [
    "!pip install astral\n",
    "!pip install skyfield"
   ]
  },
  {
   "cell_type": "code",
   "execution_count": 26,
   "metadata": {},
   "outputs": [],
   "source": [
    "from astral import LocationInfo\n",
    "from astral.moon import phase as moon_phase\n",
    "from datetime import datetime\n",
    "import numpy as np\n",
    "from skyfield.api import load, Topos\n",
    "import matplotlib.pyplot as plt"
   ]
  },
  {
   "cell_type": "code",
   "execution_count": 28,
   "metadata": {},
   "outputs": [],
   "source": [
    "# Function to estimate moon illumination based on its phase\n",
    "def get_moon_illumination(phase):\n",
    "    \"\"\"Returns approximate lux intensity based on moon phase.\"\"\"\n",
    "    # Lux values based on different moon phases (approximate)\n",
    "    lux_values = {0: 0.3,  # New Moon\n",
    "                  1: 0.2,  # Waxing Crescent\n",
    "                  7: 0.03, # First Quarter\n",
    "                  14: 0.25, # Full Moon\n",
    "                  21: 0.03, # Last Quarter\n",
    "                  28: 0.2}  # Waning Crescent\n",
    "    return lux_values.get(phase, 0.1)  # Default for intermediate phases"
   ]
  },
  {
   "cell_type": "code",
   "execution_count": 29,
   "metadata": {},
   "outputs": [],
   "source": [
    "# Define observer location in the North Atlantic\n",
    "# Example coordinates: 50N, 30W\n",
    "observer = Topos(latitude_degrees=50.0, longitude_degrees=-30.0)"
   ]
  },
  {
   "cell_type": "code",
   "execution_count": 30,
   "metadata": {},
   "outputs": [],
   "source": [
    "# Load astronomical data\n",
    "eph = load('de421.bsp')  # Ephemeris data\n",
    "ts = load.timescale()"
   ]
  },
  {
   "cell_type": "code",
   "execution_count": 31,
   "metadata": {},
   "outputs": [
    {
     "name": "stderr",
     "output_type": "stream",
     "text": [
      "/tmp/ipykernel_2035/3170271221.py:2: DeprecationWarning: datetime.datetime.utcnow() is deprecated and scheduled for removal in a future version. Use timezone-aware objects to represent datetimes in UTC: datetime.datetime.now(datetime.UTC).\n",
      "  date = datetime.utcnow()\n"
     ]
    }
   ],
   "source": [
    "# Get current time\n",
    "date = datetime.utcnow()\n",
    "t = ts.utc(date.year, date.month, date.day, date.hour, date.minute, date.second)"
   ]
  },
  {
   "cell_type": "code",
   "execution_count": 33,
   "metadata": {},
   "outputs": [],
   "source": [
    "# Compute moon and sun positions\n",
    "moon = eph['moon']\n",
    "sun = eph['sun']  # Ensure we also get the Sun's position\n",
    "earth = eph['earth']\n",
    "\n",
    "astro_position = earth + observer\n",
    "\n",
    "# Observe the Moon and Sun from the observer's position\n",
    "moon_pos = astro_position.at(t).observe(moon).apparent()\n",
    "sun_pos = astro_position.at(t).observe(sun).apparent()\n",
    "\n",
    "# Compute the phase angle\n",
    "phase_angle = moon_pos.separation_from(sun_pos)"
   ]
  },
  {
   "cell_type": "code",
   "execution_count": 34,
   "metadata": {},
   "outputs": [],
   "source": [
    "# Compute fractional illumination (Skyfield provides this directly)\n",
    "fractional_illumination = (1 + np.cos(np.radians(phase_angle.degrees))) / 2"
   ]
  },
  {
   "cell_type": "code",
   "execution_count": 35,
   "metadata": {},
   "outputs": [],
   "source": [
    "# Improved Lux Calculation using Scientific Model\n",
    "lux_intensity = 10**(-1.93 + 0.419 * fractional_illumination + 0.026 * fractional_illumination**2)"
   ]
  },
  {
   "cell_type": "code",
   "execution_count": 36,
   "metadata": {},
   "outputs": [],
   "source": [
    "# Simulate optical observation - Basic Target Visibility\n",
    "# Assuming a 15m long target with reflectivity of 0.7 (low reflectance on dark water)\n",
    "target_size = 15  # meters\n",
    "reflectivity = 0.7  # Fraction of light reflected"
   ]
  },
  {
   "cell_type": "code",
   "execution_count": 37,
   "metadata": {},
   "outputs": [],
   "source": [
    "# Compute basic visibility metric (lux * reflectivity * target size)\n",
    "visibility_score = lux_intensity * reflectivity * target_size"
   ]
  },
  {
   "cell_type": "code",
   "execution_count": 38,
   "metadata": {},
   "outputs": [
    {
     "name": "stdout",
     "output_type": "stream",
     "text": [
      "Date: 2025-04-03 19:42:08.637159\n",
      "Fractional Illumination: 0.639 (0 = New, 1 = Full)\n",
      "Estimated Lux Intensity: 0.022 lux\n"
     ]
    }
   ],
   "source": [
    "# Print results\n",
    "print(f\"Date: {date}\")\n",
    "print(f\"Fractional Illumination: {fractional_illumination:.3f} (0 = New, 1 = Full)\")\n",
    "print(f\"Estimated Lux Intensity: {lux_intensity:.3f} lux\")"
   ]
  },
  {
   "cell_type": "code",
   "execution_count": 45,
   "metadata": {},
   "outputs": [
    {
     "data": {
      "image/png": "[encoded data removed]",
      "text/plain": [
       "<Figure size 600x600 with 1 Axes>"
      ]
     },
     "metadata": {},
     "output_type": "display_data"
    }
   ],
   "source": [
    "# Render simple scene\n",
    "fig, ax = plt.subplots(figsize=(6, 6))\n",
    "ax.set_facecolor(\"black\")  # Dark background\n",
    "ax.set_facecolor('black')  # Set the axis background to black\n",
    "ax.add_patch(plt.Rectangle((0, 0), 15, 2, color='gray', alpha=reflectivity))  # Target\n",
    "plt.xlim(-10, 10)\n",
    "plt.ylim(-5, 5)\n",
    "plt.title(f\"Target under Moonlight (Phase: {phase}, Lux: {lux_intensity:.2f})\")\n",
    "plt.axis(\"off\")\n",
    "plt.show()"
   ]
  },
  {
   "cell_type": "code",
   "execution_count": null,
   "metadata": {},
   "outputs": [
    {
     "data": {
      "image/png": "[encoded data removed]",
      "text/plain": [
       "<Figure size 640x480 with 1 Axes>"
      ]
     },
     "metadata": {},
     "output_type": "display_data"
    }
   ],
   "source": [
    "import matplotlib.pyplot as plt\n",
    "import numpy as np\n",
    "\n",
    "# Moonlight conditions \n",
    "lux_intensity = 0.25  # full moon\n",
    "reflectivity_sea = 0.05  \n",
    "reflectivity_target = 0.6  \n",
    "\n",
    "img_size = (200, 200)\n",
    "\n",
    "# Create sea background\n",
    "sea = np.ones(img_size) * lux_intensity * reflectivity_sea\n",
    "\n",
    "# Add target\n",
    "target_size = (20, 40)  \n",
    "target_position = (90, 80)  \n",
    "\n",
    "\n",
    "sea[target_position[0]:target_position[0]+target_size[0],\n",
    "    target_position[1]:target_position[1]+target_size[1]] = lux_intensity * reflectivity_target\n",
    "\n",
    "# Display the simulation\n",
    "plt.imshow(sea, cmap='gray', origin='upper')\n",
    "plt.title(\"Top-Down Satellite View: Sea Under Moonlight\")\n",
    "plt.axis('off')\n",
    "plt.show()\n"
   ]
  }
 ],
 "metadata": {
  "kernelspec": {
   "display_name": "Python 3",
   "language": "python",
   "name": "python3"
  },
  "language_info": {
   "codemirror_mode": {
    "name": "ipython",
    "version": 3
   },
   "file_extension": ".py",
   "mimetype": "text/x-python",
   "name": "python",
   "nbconvert_exporter": "python",
   "pygments_lexer": "ipython3",
   "version": "3.12.1"
  }
 },
 "nbformat": 4,
 "nbformat_minor": 2
}

{
 "cells": [
  {
   "cell_type": "markdown",
   "metadata": {},
   "source": [
    "Project code"
   ]
  },
  {
   "cell_type": "code",
   "execution_count": 2,
   "metadata": {},
   "outputs": [
    {
     "name": "stdout",
     "output_type": "stream",
     "text": [
      "Collecting astral\n",
      "  Downloading astral-3.2-py3-none-any.whl.metadata (1.7 kB)\n",
      "Downloading astral-3.2-py3-none-any.whl (38 kB)\n",
      "Installing collected packages: astral\n",
      "Successfully installed astral-3.2\n",
      "Collecting skyfield\n",
      "  Downloading skyfield-1.52-py3-none-any.whl.metadata (2.4 kB)\n",
      "Requirement already satisfied: certifi>=2017.4.17 in /home/codespace/.local/lib/python3.12/site-packages (from skyfield) (2025.1.31)\n",
      "Collecting jplephem>=2.13 (from skyfield)\n",
      "  Downloading jplephem-2.22-py3-none-any.whl.metadata (22 kB)\n",
      "Requirement already satisfied: numpy in /home/codespace/.local/lib/python3.12/site-packages (from skyfield) (2.2.4)\n",
      "Collecting sgp4>=2.13 (from skyfield)\n",
      "  Downloading sgp4-2.24-cp312-cp312-manylinux_2_5_x86_64.manylinux1_x86_64.manylinux_2_17_x86_64.manylinux2014_x86_64.whl.metadata (33 kB)\n",
      "Downloading skyfield-1.52-py3-none-any.whl (466 kB)\n",
      "Downloading jplephem-2.22-py3-none-any.whl (47 kB)\n",
      "Downloading sgp4-2.24-cp312-cp312-manylinux_2_5_x86_64.manylinux1_x86_64.manylinux_2_17_x86_64.manylinux2014_x86_64.whl (235 kB)\n",
      "Installing collected packages: sgp4, jplephem, skyfield\n",
      "Successfully installed jplephem-2.22 sgp4-2.24 skyfield-1.52\n"
     ]
    }
   ],
   "source": [
    "!pip install astral\n",
    "!pip install skyfield"
   ]
  },
  {
   "cell_type": "code",
   "execution_count": 3,
   "metadata": {},
   "outputs": [],
   "source": [
    "from astral import LocationInfo\n",
    "from astral.moon import phase as moon_phase\n",
    "from datetime import datetime\n",
    "import numpy as np\n",
    "from skyfield.api import load, Topos\n",
    "import matplotlib.pyplot as plt"
   ]
  },
  {
   "cell_type": "code",
   "execution_count": 4,
   "metadata": {},
   "outputs": [],
   "source": [
    "# Function to estimate moon illumination based on its phase\n",
    "def get_moon_illumination(phase):\n",
    "    \"\"\"Returns approximate lux intensity based on moon phase.\"\"\"\n",
    "    # Lux values based on different moon phases (approximate)\n",
    "    lux_values = {0: 0.3,  # New Moon\n",
    "                  1: 0.2,  # Waxing Crescent\n",
    "                  7: 0.03, # First Quarter\n",
    "                  14: 0.25, # Full Moon\n",
    "                  21: 0.03, # Last Quarter\n",
    "                  28: 0.2}  # Waning Crescent\n",
    "    return lux_values.get(phase, 0.1)  # Default for intermediate phases"
   ]
  },
  {
   "cell_type": "code",
   "execution_count": 5,
   "metadata": {},
   "outputs": [],
   "source": [
    "# Define observer location in the North Atlantic\n",
    "# Example coordinates: 50N, 30W\n",
    "location = LocationInfo(\"North Atlantic\", \"\", \"UTC\", 50.0, -30.0)"
   ]
  },
  {
   "cell_type": "code",
   "execution_count": 6,
   "metadata": {},
   "outputs": [
    {
     "name": "stderr",
     "output_type": "stream",
     "text": [
      "[#################################] 100% de421.bsp\n",
      "/tmp/ipykernel_9561/1794587056.py:5: DeprecationWarning: datetime.datetime.utcnow() is deprecated and scheduled for removal in a future version. Use timezone-aware objects to represent datetimes in UTC: datetime.datetime.now(datetime.UTC).\n",
      "  date = datetime.utcnow()\n"
     ]
    }
   ],
   "source": [
    "# Load astronomical data\n",
    "eph = load('de421.bsp')  # Ephemeris data\n",
    "observer = Topos(latitude_degrees=50.0, longitude_degrees=-30.0)\n",
    "ts = load.timescale()\n",
    "date = datetime.utcnow()\n",
    "t = ts.utc(date.year, date.month, date.day, date.hour, date.minute, date.second)"
   ]
  },
  {
   "cell_type": "code",
   "execution_count": 7,
   "metadata": {},
   "outputs": [],
   "source": [
    "# Compute moon position\n",
    "moon = eph['moon']\n",
    "astro_position = eph['earth'] + observer\n",
    "moon_alt, _, _ = astro_position.at(t).observe(moon).apparent().altaz()"
   ]
  },
  {
   "cell_type": "code",
   "execution_count": 8,
   "metadata": {},
   "outputs": [],
   "source": [
    "# Compute the moon phase and illumination\n",
    "phase = moon_phase(date)\n",
    "lux_intensity = get_moon_illumination(phase)"
   ]
  },
  {
   "cell_type": "code",
   "execution_count": 9,
   "metadata": {},
   "outputs": [],
   "source": [
    "# Simulate optical observation - Basic Target Visibility\n",
    "# Assuming a 15m long target with reflectivity of 0.7 (low reflectance on dark water)\n",
    "target_size = 15  # meters\n",
    "reflectivity = 0.7  # Fraction of light reflected"
   ]
  },
  {
   "cell_type": "code",
   "execution_count": 10,
   "metadata": {},
   "outputs": [],
   "source": [
    "# Compute basic visibility metric (lux * reflectivity * target size)\n",
    "visibility_score = lux_intensity * reflectivity * target_size"
   ]
  },
  {
   "cell_type": "code",
   "execution_count": 11,
   "metadata": {},
   "outputs": [
    {
     "data": {
      "image/png": "[encoded data removed]",
      "text/plain": [
       "<Figure size 600x600 with 1 Axes>"
      ]
     },
     "metadata": {},
     "output_type": "display_data"
    }
   ],
   "source": [
    "# Render simple scene\n",
    "fig, ax = plt.subplots(figsize=(6, 6))\n",
    "ax.set_facecolor(\"black\")  # Dark background\n",
    "ax.add_patch(plt.Rectangle((0, 0), 15, 2, color='gray', alpha=reflectivity))  # Target\n",
    "plt.xlim(-10, 10)\n",
    "plt.ylim(-5, 5)\n",
    "plt.title(f\"Target under Moonlight (Phase: {phase}, Lux: {lux_intensity:.2f})\")\n",
    "plt.axis(\"off\")\n",
    "plt.show()"
   ]
  },
  {
   "cell_type": "code",
   "execution_count": 12,
   "metadata": {},
   "outputs": [
    {
     "name": "stdout",
     "output_type": "stream",
     "text": [
      "Date: 2025-04-01 20:29:58.465937\n",
      "Moon Phase: 4.155666666666667 (0=New, 14=Full)\n",
      "Lux Intensity: 0.1 lux\n",
      "Moon Altitude: 42.63 degrees\n",
      "Target Visibility Score: 1.05\n"
     ]
    }
   ],
   "source": [
    "# Print results\n",
    "print(f\"Date: {date}\")\n",
    "print(f\"Moon Phase: {phase} (0=New, 14=Full)\")\n",
    "print(f\"Lux Intensity: {lux_intensity} lux\")\n",
    "print(f\"Moon Altitude: {moon_alt.degrees:.2f} degrees\")\n",
    "print(f\"Target Visibility Score: {visibility_score:.2f}\")"
   ]
  },
  {
   "cell_type": "code",
   "execution_count": null,
   "metadata": {},
   "outputs": [],
   "source": []
  }
 ],
 "metadata": {
  "kernelspec": {
   "display_name": "Python 3",
   "language": "python",
   "name": "python3"
  },
  "language_info": {
   "codemirror_mode": {
    "name": "ipython",
    "version": 3
   },
   "file_extension": ".py",
   "mimetype": "text/x-python",
   "name": "python",
   "nbconvert_exporter": "python",
   "pygments_lexer": "ipython3",
   "version": "3.12.1"
  }
 },
 "nbformat": 4,
 "nbformat_minor": 2
}
